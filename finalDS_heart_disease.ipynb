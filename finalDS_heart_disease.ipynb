{
  "cells": [
    {
      "cell_type": "code",
      "execution_count": 34,
      "metadata": {
        "id": "L5KdRRJGqlj8"
      },
      "outputs": [],
      "source": [
        "import numpy as np\n",
        "import pandas as pd\n",
        "import matplotlib.pyplot as plt\n",
        "import seaborn as sns"
      ]
    },
    {
      "cell_type": "code",
      "execution_count": 35,
      "metadata": {
        "id": "tS-ASBvkq_dd"
      },
      "outputs": [],
      "source": [
        "df = pd.read_csv('heart_2020_cleaned.csv', header=0)\n",
        "df_copy = df\n",
        "\n",
        "# label to predict: heart disease\n",
        "# header 0 to fix issue with selecting columns"
      ]
    },
    {
      "cell_type": "markdown",
      "metadata": {
        "id": "bBtTn2AVzcW_"
      },
      "source": [
        "# EDA"
      ]
    },
    {
      "cell_type": "code",
      "execution_count": 36,
      "metadata": {
        "colab": {
          "base_uri": "https://localhost:8080/",
          "height": 270
        },
        "id": "yD_CpbamrmmX",
        "outputId": "68f457a2-1833-4ad1-c3fd-c2396086d872"
      },
      "outputs": [
        {
          "data": {
            "text/html": [
              "<div>\n",
              "<style scoped>\n",
              "    .dataframe tbody tr th:only-of-type {\n",
              "        vertical-align: middle;\n",
              "    }\n",
              "\n",
              "    .dataframe tbody tr th {\n",
              "        vertical-align: top;\n",
              "    }\n",
              "\n",
              "    .dataframe thead th {\n",
              "        text-align: right;\n",
              "    }\n",
              "</style>\n",
              "<table border=\"1\" class=\"dataframe\">\n",
              "  <thead>\n",
              "    <tr style=\"text-align: right;\">\n",
              "      <th></th>\n",
              "      <th>HeartDisease</th>\n",
              "      <th>BMI</th>\n",
              "      <th>Smoking</th>\n",
              "      <th>AlcoholDrinking</th>\n",
              "      <th>Stroke</th>\n",
              "      <th>PhysicalHealth</th>\n",
              "      <th>MentalHealth</th>\n",
              "      <th>DiffWalking</th>\n",
              "      <th>Sex</th>\n",
              "      <th>AgeCategory</th>\n",
              "      <th>Race</th>\n",
              "      <th>Diabetic</th>\n",
              "      <th>PhysicalActivity</th>\n",
              "      <th>GenHealth</th>\n",
              "      <th>SleepTime</th>\n",
              "      <th>Asthma</th>\n",
              "      <th>KidneyDisease</th>\n",
              "      <th>SkinCancer</th>\n",
              "    </tr>\n",
              "  </thead>\n",
              "  <tbody>\n",
              "    <tr>\n",
              "      <th>0</th>\n",
              "      <td>No</td>\n",
              "      <td>16.60</td>\n",
              "      <td>Yes</td>\n",
              "      <td>No</td>\n",
              "      <td>No</td>\n",
              "      <td>3.0</td>\n",
              "      <td>30.0</td>\n",
              "      <td>No</td>\n",
              "      <td>Female</td>\n",
              "      <td>55-59</td>\n",
              "      <td>White</td>\n",
              "      <td>Yes</td>\n",
              "      <td>Yes</td>\n",
              "      <td>Very good</td>\n",
              "      <td>5.0</td>\n",
              "      <td>Yes</td>\n",
              "      <td>No</td>\n",
              "      <td>Yes</td>\n",
              "    </tr>\n",
              "    <tr>\n",
              "      <th>1</th>\n",
              "      <td>No</td>\n",
              "      <td>20.34</td>\n",
              "      <td>No</td>\n",
              "      <td>No</td>\n",
              "      <td>Yes</td>\n",
              "      <td>0.0</td>\n",
              "      <td>0.0</td>\n",
              "      <td>No</td>\n",
              "      <td>Female</td>\n",
              "      <td>80 or older</td>\n",
              "      <td>White</td>\n",
              "      <td>No</td>\n",
              "      <td>Yes</td>\n",
              "      <td>Very good</td>\n",
              "      <td>7.0</td>\n",
              "      <td>No</td>\n",
              "      <td>No</td>\n",
              "      <td>No</td>\n",
              "    </tr>\n",
              "    <tr>\n",
              "      <th>2</th>\n",
              "      <td>No</td>\n",
              "      <td>26.58</td>\n",
              "      <td>Yes</td>\n",
              "      <td>No</td>\n",
              "      <td>No</td>\n",
              "      <td>20.0</td>\n",
              "      <td>30.0</td>\n",
              "      <td>No</td>\n",
              "      <td>Male</td>\n",
              "      <td>65-69</td>\n",
              "      <td>White</td>\n",
              "      <td>Yes</td>\n",
              "      <td>Yes</td>\n",
              "      <td>Fair</td>\n",
              "      <td>8.0</td>\n",
              "      <td>Yes</td>\n",
              "      <td>No</td>\n",
              "      <td>No</td>\n",
              "    </tr>\n",
              "    <tr>\n",
              "      <th>3</th>\n",
              "      <td>No</td>\n",
              "      <td>24.21</td>\n",
              "      <td>No</td>\n",
              "      <td>No</td>\n",
              "      <td>No</td>\n",
              "      <td>0.0</td>\n",
              "      <td>0.0</td>\n",
              "      <td>No</td>\n",
              "      <td>Female</td>\n",
              "      <td>75-79</td>\n",
              "      <td>White</td>\n",
              "      <td>No</td>\n",
              "      <td>No</td>\n",
              "      <td>Good</td>\n",
              "      <td>6.0</td>\n",
              "      <td>No</td>\n",
              "      <td>No</td>\n",
              "      <td>Yes</td>\n",
              "    </tr>\n",
              "    <tr>\n",
              "      <th>4</th>\n",
              "      <td>No</td>\n",
              "      <td>23.71</td>\n",
              "      <td>No</td>\n",
              "      <td>No</td>\n",
              "      <td>No</td>\n",
              "      <td>28.0</td>\n",
              "      <td>0.0</td>\n",
              "      <td>Yes</td>\n",
              "      <td>Female</td>\n",
              "      <td>40-44</td>\n",
              "      <td>White</td>\n",
              "      <td>No</td>\n",
              "      <td>Yes</td>\n",
              "      <td>Very good</td>\n",
              "      <td>8.0</td>\n",
              "      <td>No</td>\n",
              "      <td>No</td>\n",
              "      <td>No</td>\n",
              "    </tr>\n",
              "  </tbody>\n",
              "</table>\n",
              "</div>"
            ],
            "text/plain": [
              "  HeartDisease    BMI Smoking AlcoholDrinking Stroke  PhysicalHealth  \\\n",
              "0           No  16.60     Yes              No     No             3.0   \n",
              "1           No  20.34      No              No    Yes             0.0   \n",
              "2           No  26.58     Yes              No     No            20.0   \n",
              "3           No  24.21      No              No     No             0.0   \n",
              "4           No  23.71      No              No     No            28.0   \n",
              "\n",
              "   MentalHealth DiffWalking     Sex  AgeCategory   Race Diabetic  \\\n",
              "0          30.0          No  Female        55-59  White      Yes   \n",
              "1           0.0          No  Female  80 or older  White       No   \n",
              "2          30.0          No    Male        65-69  White      Yes   \n",
              "3           0.0          No  Female        75-79  White       No   \n",
              "4           0.0         Yes  Female        40-44  White       No   \n",
              "\n",
              "  PhysicalActivity  GenHealth  SleepTime Asthma KidneyDisease SkinCancer  \n",
              "0              Yes  Very good        5.0    Yes            No        Yes  \n",
              "1              Yes  Very good        7.0     No            No         No  \n",
              "2              Yes       Fair        8.0    Yes            No         No  \n",
              "3               No       Good        6.0     No            No        Yes  \n",
              "4              Yes  Very good        8.0     No            No         No  "
            ]
          },
          "execution_count": 36,
          "metadata": {},
          "output_type": "execute_result"
        }
      ],
      "source": [
        "df.head()"
      ]
    },
    {
      "cell_type": "code",
      "execution_count": 37,
      "metadata": {
        "colab": {
          "base_uri": "https://localhost:8080/"
        },
        "id": "4U6O6o5Rc0bc",
        "outputId": "cf955199-c475-458e-9acc-79a3506d651c"
      },
      "outputs": [
        {
          "data": {
            "text/plain": [
              "array(['55-59', '80 or older', '65-69', '75-79', '40-44', '70-74',\n",
              "       '60-64', '50-54', '45-49', '18-24', '35-39', '30-34', '25-29'],\n",
              "      dtype=object)"
            ]
          },
          "execution_count": 37,
          "metadata": {},
          "output_type": "execute_result"
        }
      ],
      "source": [
        "df['AgeCategory'].unique()"
      ]
    },
    {
      "cell_type": "code",
      "execution_count": 38,
      "metadata": {
        "colab": {
          "base_uri": "https://localhost:8080/"
        },
        "id": "Leomn87HsBPw",
        "outputId": "6427b139-f1db-46ff-fcca-3537527a30cc"
      },
      "outputs": [
        {
          "name": "stdout",
          "output_type": "stream",
          "text": [
            "<class 'pandas.core.frame.DataFrame'>\n",
            "RangeIndex: 319795 entries, 0 to 319794\n",
            "Data columns (total 18 columns):\n",
            " #   Column            Non-Null Count   Dtype  \n",
            "---  ------            --------------   -----  \n",
            " 0   HeartDisease      319795 non-null  object \n",
            " 1   BMI               319795 non-null  float64\n",
            " 2   Smoking           319795 non-null  object \n",
            " 3   AlcoholDrinking   319795 non-null  object \n",
            " 4   Stroke            319795 non-null  object \n",
            " 5   PhysicalHealth    319795 non-null  float64\n",
            " 6   MentalHealth      319795 non-null  float64\n",
            " 7   DiffWalking       319795 non-null  object \n",
            " 8   Sex               319795 non-null  object \n",
            " 9   AgeCategory       319795 non-null  object \n",
            " 10  Race              319795 non-null  object \n",
            " 11  Diabetic          319795 non-null  object \n",
            " 12  PhysicalActivity  319795 non-null  object \n",
            " 13  GenHealth         319795 non-null  object \n",
            " 14  SleepTime         319795 non-null  float64\n",
            " 15  Asthma            319795 non-null  object \n",
            " 16  KidneyDisease     319795 non-null  object \n",
            " 17  SkinCancer        319795 non-null  object \n",
            "dtypes: float64(4), object(14)\n",
            "memory usage: 43.9+ MB\n"
          ]
        }
      ],
      "source": [
        "df.info()"
      ]
    },
    {
      "cell_type": "code",
      "execution_count": 39,
      "metadata": {
        "colab": {
          "base_uri": "https://localhost:8080/",
          "height": 300
        },
        "id": "y2lYLTxfsD6c",
        "outputId": "b84eee1a-9ed8-4d67-cfb3-6187ff1f977b"
      },
      "outputs": [
        {
          "data": {
            "text/html": [
              "<div>\n",
              "<style scoped>\n",
              "    .dataframe tbody tr th:only-of-type {\n",
              "        vertical-align: middle;\n",
              "    }\n",
              "\n",
              "    .dataframe tbody tr th {\n",
              "        vertical-align: top;\n",
              "    }\n",
              "\n",
              "    .dataframe thead th {\n",
              "        text-align: right;\n",
              "    }\n",
              "</style>\n",
              "<table border=\"1\" class=\"dataframe\">\n",
              "  <thead>\n",
              "    <tr style=\"text-align: right;\">\n",
              "      <th></th>\n",
              "      <th>BMI</th>\n",
              "      <th>PhysicalHealth</th>\n",
              "      <th>MentalHealth</th>\n",
              "      <th>SleepTime</th>\n",
              "    </tr>\n",
              "  </thead>\n",
              "  <tbody>\n",
              "    <tr>\n",
              "      <th>count</th>\n",
              "      <td>319795.000000</td>\n",
              "      <td>319795.00000</td>\n",
              "      <td>319795.000000</td>\n",
              "      <td>319795.000000</td>\n",
              "    </tr>\n",
              "    <tr>\n",
              "      <th>mean</th>\n",
              "      <td>28.325399</td>\n",
              "      <td>3.37171</td>\n",
              "      <td>3.898366</td>\n",
              "      <td>7.097075</td>\n",
              "    </tr>\n",
              "    <tr>\n",
              "      <th>std</th>\n",
              "      <td>6.356100</td>\n",
              "      <td>7.95085</td>\n",
              "      <td>7.955235</td>\n",
              "      <td>1.436007</td>\n",
              "    </tr>\n",
              "    <tr>\n",
              "      <th>min</th>\n",
              "      <td>12.020000</td>\n",
              "      <td>0.00000</td>\n",
              "      <td>0.000000</td>\n",
              "      <td>1.000000</td>\n",
              "    </tr>\n",
              "    <tr>\n",
              "      <th>25%</th>\n",
              "      <td>24.030000</td>\n",
              "      <td>0.00000</td>\n",
              "      <td>0.000000</td>\n",
              "      <td>6.000000</td>\n",
              "    </tr>\n",
              "    <tr>\n",
              "      <th>50%</th>\n",
              "      <td>27.340000</td>\n",
              "      <td>0.00000</td>\n",
              "      <td>0.000000</td>\n",
              "      <td>7.000000</td>\n",
              "    </tr>\n",
              "    <tr>\n",
              "      <th>75%</th>\n",
              "      <td>31.420000</td>\n",
              "      <td>2.00000</td>\n",
              "      <td>3.000000</td>\n",
              "      <td>8.000000</td>\n",
              "    </tr>\n",
              "    <tr>\n",
              "      <th>max</th>\n",
              "      <td>94.850000</td>\n",
              "      <td>30.00000</td>\n",
              "      <td>30.000000</td>\n",
              "      <td>24.000000</td>\n",
              "    </tr>\n",
              "  </tbody>\n",
              "</table>\n",
              "</div>"
            ],
            "text/plain": [
              "                 BMI  PhysicalHealth   MentalHealth      SleepTime\n",
              "count  319795.000000    319795.00000  319795.000000  319795.000000\n",
              "mean       28.325399         3.37171       3.898366       7.097075\n",
              "std         6.356100         7.95085       7.955235       1.436007\n",
              "min        12.020000         0.00000       0.000000       1.000000\n",
              "25%        24.030000         0.00000       0.000000       6.000000\n",
              "50%        27.340000         0.00000       0.000000       7.000000\n",
              "75%        31.420000         2.00000       3.000000       8.000000\n",
              "max        94.850000        30.00000      30.000000      24.000000"
            ]
          },
          "execution_count": 39,
          "metadata": {},
          "output_type": "execute_result"
        }
      ],
      "source": [
        "df.describe()"
      ]
    },
    {
      "cell_type": "code",
      "execution_count": 40,
      "metadata": {
        "colab": {
          "base_uri": "https://localhost:8080/",
          "height": 297
        },
        "id": "ZlhwxA4h1Y9q",
        "outputId": "20775d0a-1d5d-4e40-b894-49f1f56e42af"
      },
      "outputs": [
        {
          "data": {
            "text/plain": [
              "<AxesSubplot:xlabel='PhysicalActivity', ylabel='count'>"
            ]
          },
          "execution_count": 40,
          "metadata": {},
          "output_type": "execute_result"
        },
        {
          "data": {
            "image/png": "[encoded data removed]",
            "text/plain": [
              "<Figure size 432x288 with 1 Axes>"
            ]
          },
          "metadata": {
            "needs_background": "light"
          },
          "output_type": "display_data"
        }
      ],
      "source": [
        "sns.countplot(hue='HeartDisease', x='PhysicalActivity', data=df)\n",
        "\n",
        "# physical activity appears to lower risk"
      ]
    },
    {
      "cell_type": "code",
      "execution_count": 41,
      "metadata": {
        "colab": {
          "base_uri": "https://localhost:8080/",
          "height": 297
        },
        "id": "qWO0HFkJ23ms",
        "outputId": "62440dff-5c3e-42d9-e144-7289925453de"
      },
      "outputs": [
        {
          "data": {
            "text/plain": [
              "<AxesSubplot:xlabel='Smoking', ylabel='count'>"
            ]
          },
          "execution_count": 41,
          "metadata": {},
          "output_type": "execute_result"
        },
        {
          "data": {
            "image/png": "[encoded data removed]",
            "text/plain": [
              "<Figure size 432x288 with 1 Axes>"
            ]
          },
          "metadata": {
            "needs_background": "light"
          },
          "output_type": "display_data"
        }
      ],
      "source": [
        "sns.countplot(hue='HeartDisease', x='Smoking', data=df)\n",
        "\n",
        "# smoking elevates risk"
      ]
    },
    {
      "cell_type": "code",
      "execution_count": 42,
      "metadata": {
        "colab": {
          "base_uri": "https://localhost:8080/",
          "height": 297
        },
        "id": "a_xg0yGU3IUe",
        "outputId": "4a3a711c-1e9a-4d0d-c041-99f0f0d3b0df"
      },
      "outputs": [
        {
          "data": {
            "text/plain": [
              "<AxesSubplot:xlabel='SleepTime', ylabel='count'>"
            ]
          },
          "execution_count": 42,
          "metadata": {},
          "output_type": "execute_result"
        },
        {
          "data": {
            "image/png": "[encoded data removed]",
            "text/plain": [
              "<Figure size 432x288 with 1 Axes>"
            ]
          },
          "metadata": {
            "needs_background": "light"
          },
          "output_type": "display_data"
        }
      ],
      "source": [
        "# sns.jointplot(x=df['SleepTime'], y=df['HeartDisease']))\n",
        "\n",
        "# weird, looks like sleepTime is better interpreted as categorical data.\n",
        "\n",
        "df['SleepTime'] = df['SleepTime'].astype(str)\n",
        "\n",
        "sns.countplot(hue='HeartDisease', x='SleepTime', data=df)"
      ]
    },
    {
      "cell_type": "code",
      "execution_count": 43,
      "metadata": {
        "colab": {
          "base_uri": "https://localhost:8080/",
          "height": 352
        },
        "id": "uv9CpNzfNSXS",
        "outputId": "fef13283-df3f-489c-85f0-86e9b43b30e6"
      },
      "outputs": [
        {
          "data": {
            "text/plain": [
              "<matplotlib.legend.Legend at 0x2b827ce80>"
            ]
          },
          "execution_count": 43,
          "metadata": {},
          "output_type": "execute_result"
        },
        {
          "data": {
            "image/png": "[encoded data removed]",
            "text/plain": [
              "<Figure size 936x360 with 1 Axes>"
            ]
          },
          "metadata": {
            "needs_background": "light"
          },
          "output_type": "display_data"
        }
      ],
      "source": [
        "fig, ax = plt.subplots(figsize = (13,5))\n",
        "sns.kdeplot(df[df[\"HeartDisease\"]==\"Yes\"][\"BMI\"], alpha=0.5,shade = True, label='Yes', ax = ax)\n",
        "sns.kdeplot(df[df[\"HeartDisease\"]==\"No\"][\"BMI\"], alpha=0.5,shade = True, label='No', ax = ax)\n",
        "ax.legend()\n",
        "\n",
        "# clear trend of high BMI => higher heart disease risk."
      ]
    },
    {
      "cell_type": "markdown",
      "metadata": {
        "id": "98oSi2Pa5T6V"
      },
      "source": [
        "# Feature Engineering\n"
      ]
    },
    {
      "cell_type": "code",
      "execution_count": 44,
      "metadata": {
        "id": "9vjWLhQavh4G"
      },
      "outputs": [],
      "source": [
        "df_nums = df.select_dtypes(exclude='object') # numerical columns only\n",
        "df_objs = df.select_dtypes(include='object') # categorical columns only\n",
        "y = df['HeartDisease'] # target"
      ]
    },
    {
      "cell_type": "code",
      "execution_count": 45,
      "metadata": {
        "colab": {
          "base_uri": "https://localhost:8080/"
        },
        "id": "jpJH4BVYv5Mt",
        "outputId": "0508d6ee-2d56-4969-ca0f-7c4fdddb4192"
      },
      "outputs": [
        {
          "name": "stdout",
          "output_type": "stream",
          "text": [
            "<class 'pandas.core.frame.DataFrame'>\n",
            "RangeIndex: 319795 entries, 0 to 319794\n",
            "Data columns (total 15 columns):\n",
            " #   Column            Non-Null Count   Dtype \n",
            "---  ------            --------------   ----- \n",
            " 0   HeartDisease      319795 non-null  object\n",
            " 1   Smoking           319795 non-null  object\n",
            " 2   AlcoholDrinking   319795 non-null  object\n",
            " 3   Stroke            319795 non-null  object\n",
            " 4   DiffWalking       319795 non-null  object\n",
            " 5   Sex               319795 non-null  object\n",
            " 6   AgeCategory       319795 non-null  object\n",
            " 7   Race              319795 non-null  object\n",
            " 8   Diabetic          319795 non-null  object\n",
            " 9   PhysicalActivity  319795 non-null  object\n",
            " 10  GenHealth         319795 non-null  object\n",
            " 11  SleepTime         319795 non-null  object\n",
            " 12  Asthma            319795 non-null  object\n",
            " 13  KidneyDisease     319795 non-null  object\n",
            " 14  SkinCancer        319795 non-null  object\n",
            "dtypes: object(15)\n",
            "memory usage: 36.6+ MB\n"
          ]
        }
      ],
      "source": [
        "df_objs.info()"
      ]
    },
    {
      "cell_type": "code",
      "execution_count": 46,
      "metadata": {
        "colab": {
          "base_uri": "https://localhost:8080/",
          "height": 487
        },
        "id": "-L82cCsVzsWm",
        "outputId": "384baa5e-8d18-42c8-d467-3afca4ce7d0f"
      },
      "outputs": [
        {
          "data": {
            "text/html": [
              "<div>\n",
              "<style scoped>\n",
              "    .dataframe tbody tr th:only-of-type {\n",
              "        vertical-align: middle;\n",
              "    }\n",
              "\n",
              "    .dataframe tbody tr th {\n",
              "        vertical-align: top;\n",
              "    }\n",
              "\n",
              "    .dataframe thead th {\n",
              "        text-align: right;\n",
              "    }\n",
              "</style>\n",
              "<table border=\"1\" class=\"dataframe\">\n",
              "  <thead>\n",
              "    <tr style=\"text-align: right;\">\n",
              "      <th></th>\n",
              "      <th>HeartDisease_Yes</th>\n",
              "      <th>Smoking_Yes</th>\n",
              "      <th>AlcoholDrinking_Yes</th>\n",
              "      <th>Stroke_Yes</th>\n",
              "      <th>Sex_Male</th>\n",
              "      <th>DiffWalking_Yes</th>\n",
              "      <th>PhysicalActivity_Yes</th>\n",
              "      <th>Asthma_Yes</th>\n",
              "      <th>KidneyDisease_Yes</th>\n",
              "      <th>SkinCancer_Yes</th>\n",
              "      <th>...</th>\n",
              "      <th>SleepTime_22.0</th>\n",
              "      <th>SleepTime_23.0</th>\n",
              "      <th>SleepTime_24.0</th>\n",
              "      <th>SleepTime_3.0</th>\n",
              "      <th>SleepTime_4.0</th>\n",
              "      <th>SleepTime_5.0</th>\n",
              "      <th>SleepTime_6.0</th>\n",
              "      <th>SleepTime_7.0</th>\n",
              "      <th>SleepTime_8.0</th>\n",
              "      <th>SleepTime_9.0</th>\n",
              "    </tr>\n",
              "  </thead>\n",
              "  <tbody>\n",
              "    <tr>\n",
              "      <th>0</th>\n",
              "      <td>0</td>\n",
              "      <td>1</td>\n",
              "      <td>0</td>\n",
              "      <td>0</td>\n",
              "      <td>0</td>\n",
              "      <td>0</td>\n",
              "      <td>1</td>\n",
              "      <td>1</td>\n",
              "      <td>0</td>\n",
              "      <td>1</td>\n",
              "      <td>...</td>\n",
              "      <td>0</td>\n",
              "      <td>0</td>\n",
              "      <td>0</td>\n",
              "      <td>0</td>\n",
              "      <td>0</td>\n",
              "      <td>1</td>\n",
              "      <td>0</td>\n",
              "      <td>0</td>\n",
              "      <td>0</td>\n",
              "      <td>0</td>\n",
              "    </tr>\n",
              "    <tr>\n",
              "      <th>1</th>\n",
              "      <td>0</td>\n",
              "      <td>0</td>\n",
              "      <td>0</td>\n",
              "      <td>1</td>\n",
              "      <td>0</td>\n",
              "      <td>0</td>\n",
              "      <td>1</td>\n",
              "      <td>0</td>\n",
              "      <td>0</td>\n",
              "      <td>0</td>\n",
              "      <td>...</td>\n",
              "      <td>0</td>\n",
              "      <td>0</td>\n",
              "      <td>0</td>\n",
              "      <td>0</td>\n",
              "      <td>0</td>\n",
              "      <td>0</td>\n",
              "      <td>0</td>\n",
              "      <td>1</td>\n",
              "      <td>0</td>\n",
              "      <td>0</td>\n",
              "    </tr>\n",
              "    <tr>\n",
              "      <th>2</th>\n",
              "      <td>0</td>\n",
              "      <td>1</td>\n",
              "      <td>0</td>\n",
              "      <td>0</td>\n",
              "      <td>1</td>\n",
              "      <td>0</td>\n",
              "      <td>1</td>\n",
              "      <td>1</td>\n",
              "      <td>0</td>\n",
              "      <td>0</td>\n",
              "      <td>...</td>\n",
              "      <td>0</td>\n",
              "      <td>0</td>\n",
              "      <td>0</td>\n",
              "      <td>0</td>\n",
              "      <td>0</td>\n",
              "      <td>0</td>\n",
              "      <td>0</td>\n",
              "      <td>0</td>\n",
              "      <td>1</td>\n",
              "      <td>0</td>\n",
              "    </tr>\n",
              "    <tr>\n",
              "      <th>3</th>\n",
              "      <td>0</td>\n",
              "      <td>0</td>\n",
              "      <td>0</td>\n",
              "      <td>0</td>\n",
              "      <td>0</td>\n",
              "      <td>0</td>\n",
              "      <td>0</td>\n",
              "      <td>0</td>\n",
              "      <td>0</td>\n",
              "      <td>1</td>\n",
              "      <td>...</td>\n",
              "      <td>0</td>\n",
              "      <td>0</td>\n",
              "      <td>0</td>\n",
              "      <td>0</td>\n",
              "      <td>0</td>\n",
              "      <td>0</td>\n",
              "      <td>1</td>\n",
              "      <td>0</td>\n",
              "      <td>0</td>\n",
              "      <td>0</td>\n",
              "    </tr>\n",
              "    <tr>\n",
              "      <th>4</th>\n",
              "      <td>0</td>\n",
              "      <td>0</td>\n",
              "      <td>0</td>\n",
              "      <td>0</td>\n",
              "      <td>0</td>\n",
              "      <td>1</td>\n",
              "      <td>1</td>\n",
              "      <td>0</td>\n",
              "      <td>0</td>\n",
              "      <td>0</td>\n",
              "      <td>...</td>\n",
              "      <td>0</td>\n",
              "      <td>0</td>\n",
              "      <td>0</td>\n",
              "      <td>0</td>\n",
              "      <td>0</td>\n",
              "      <td>0</td>\n",
              "      <td>0</td>\n",
              "      <td>0</td>\n",
              "      <td>1</td>\n",
              "      <td>0</td>\n",
              "    </tr>\n",
              "    <tr>\n",
              "      <th>...</th>\n",
              "      <td>...</td>\n",
              "      <td>...</td>\n",
              "      <td>...</td>\n",
              "      <td>...</td>\n",
              "      <td>...</td>\n",
              "      <td>...</td>\n",
              "      <td>...</td>\n",
              "      <td>...</td>\n",
              "      <td>...</td>\n",
              "      <td>...</td>\n",
              "      <td>...</td>\n",
              "      <td>...</td>\n",
              "      <td>...</td>\n",
              "      <td>...</td>\n",
              "      <td>...</td>\n",
              "      <td>...</td>\n",
              "      <td>...</td>\n",
              "      <td>...</td>\n",
              "      <td>...</td>\n",
              "      <td>...</td>\n",
              "      <td>...</td>\n",
              "    </tr>\n",
              "    <tr>\n",
              "      <th>319790</th>\n",
              "      <td>1</td>\n",
              "      <td>1</td>\n",
              "      <td>0</td>\n",
              "      <td>0</td>\n",
              "      <td>1</td>\n",
              "      <td>1</td>\n",
              "      <td>0</td>\n",
              "      <td>1</td>\n",
              "      <td>0</td>\n",
              "      <td>0</td>\n",
              "      <td>...</td>\n",
              "      <td>0</td>\n",
              "      <td>0</td>\n",
              "      <td>0</td>\n",
              "      <td>0</td>\n",
              "      <td>0</td>\n",
              "      <td>0</td>\n",
              "      <td>1</td>\n",
              "      <td>0</td>\n",
              "      <td>0</td>\n",
              "      <td>0</td>\n",
              "    </tr>\n",
              "    <tr>\n",
              "      <th>319791</th>\n",
              "      <td>0</td>\n",
              "      <td>1</td>\n",
              "      <td>0</td>\n",
              "      <td>0</td>\n",
              "      <td>1</td>\n",
              "      <td>0</td>\n",
              "      <td>1</td>\n",
              "      <td>1</td>\n",
              "      <td>0</td>\n",
              "      <td>0</td>\n",
              "      <td>...</td>\n",
              "      <td>0</td>\n",
              "      <td>0</td>\n",
              "      <td>0</td>\n",
              "      <td>0</td>\n",
              "      <td>0</td>\n",
              "      <td>1</td>\n",
              "      <td>0</td>\n",
              "      <td>0</td>\n",
              "      <td>0</td>\n",
              "      <td>0</td>\n",
              "    </tr>\n",
              "    <tr>\n",
              "      <th>319792</th>\n",
              "      <td>0</td>\n",
              "      <td>0</td>\n",
              "      <td>0</td>\n",
              "      <td>0</td>\n",
              "      <td>0</td>\n",
              "      <td>0</td>\n",
              "      <td>1</td>\n",
              "      <td>0</td>\n",
              "      <td>0</td>\n",
              "      <td>0</td>\n",
              "      <td>...</td>\n",
              "      <td>0</td>\n",
              "      <td>0</td>\n",
              "      <td>0</td>\n",
              "      <td>0</td>\n",
              "      <td>0</td>\n",
              "      <td>0</td>\n",
              "      <td>1</td>\n",
              "      <td>0</td>\n",
              "      <td>0</td>\n",
              "      <td>0</td>\n",
              "    </tr>\n",
              "    <tr>\n",
              "      <th>319793</th>\n",
              "      <td>0</td>\n",
              "      <td>0</td>\n",
              "      <td>0</td>\n",
              "      <td>0</td>\n",
              "      <td>0</td>\n",
              "      <td>0</td>\n",
              "      <td>0</td>\n",
              "      <td>0</td>\n",
              "      <td>0</td>\n",
              "      <td>0</td>\n",
              "      <td>...</td>\n",
              "      <td>0</td>\n",
              "      <td>0</td>\n",
              "      <td>0</td>\n",
              "      <td>0</td>\n",
              "      <td>0</td>\n",
              "      <td>0</td>\n",
              "      <td>0</td>\n",
              "      <td>0</td>\n",
              "      <td>0</td>\n",
              "      <td>0</td>\n",
              "    </tr>\n",
              "    <tr>\n",
              "      <th>319794</th>\n",
              "      <td>0</td>\n",
              "      <td>0</td>\n",
              "      <td>0</td>\n",
              "      <td>0</td>\n",
              "      <td>0</td>\n",
              "      <td>0</td>\n",
              "      <td>1</td>\n",
              "      <td>0</td>\n",
              "      <td>0</td>\n",
              "      <td>0</td>\n",
              "      <td>...</td>\n",
              "      <td>0</td>\n",
              "      <td>0</td>\n",
              "      <td>0</td>\n",
              "      <td>0</td>\n",
              "      <td>0</td>\n",
              "      <td>0</td>\n",
              "      <td>0</td>\n",
              "      <td>0</td>\n",
              "      <td>1</td>\n",
              "      <td>0</td>\n",
              "    </tr>\n",
              "  </tbody>\n",
              "</table>\n",
              "<p>319795 rows × 62 columns</p>\n",
              "</div>"
            ],
            "text/plain": [
              "        HeartDisease_Yes  Smoking_Yes  AlcoholDrinking_Yes  Stroke_Yes  \\\n",
              "0                      0            1                    0           0   \n",
              "1                      0            0                    0           1   \n",
              "2                      0            1                    0           0   \n",
              "3                      0            0                    0           0   \n",
              "4                      0            0                    0           0   \n",
              "...                  ...          ...                  ...         ...   \n",
              "319790                 1            1                    0           0   \n",
              "319791                 0            1                    0           0   \n",
              "319792                 0            0                    0           0   \n",
              "319793                 0            0                    0           0   \n",
              "319794                 0            0                    0           0   \n",
              "\n",
              "        Sex_Male  DiffWalking_Yes  PhysicalActivity_Yes  Asthma_Yes  \\\n",
              "0              0                0                     1           1   \n",
              "1              0                0                     1           0   \n",
              "2              1                0                     1           1   \n",
              "3              0                0                     0           0   \n",
              "4              0                1                     1           0   \n",
              "...          ...              ...                   ...         ...   \n",
              "319790         1                1                     0           1   \n",
              "319791         1                0                     1           1   \n",
              "319792         0                0                     1           0   \n",
              "319793         0                0                     0           0   \n",
              "319794         0                0                     1           0   \n",
              "\n",
              "        KidneyDisease_Yes  SkinCancer_Yes  ...  SleepTime_22.0  \\\n",
              "0                       0               1  ...               0   \n",
              "1                       0               0  ...               0   \n",
              "2                       0               0  ...               0   \n",
              "3                       0               1  ...               0   \n",
              "4                       0               0  ...               0   \n",
              "...                   ...             ...  ...             ...   \n",
              "319790                  0               0  ...               0   \n",
              "319791                  0               0  ...               0   \n",
              "319792                  0               0  ...               0   \n",
              "319793                  0               0  ...               0   \n",
              "319794                  0               0  ...               0   \n",
              "\n",
              "        SleepTime_23.0  SleepTime_24.0  SleepTime_3.0  SleepTime_4.0  \\\n",
              "0                    0               0              0              0   \n",
              "1                    0               0              0              0   \n",
              "2                    0               0              0              0   \n",
              "3                    0               0              0              0   \n",
              "4                    0               0              0              0   \n",
              "...                ...             ...            ...            ...   \n",
              "319790               0               0              0              0   \n",
              "319791               0               0              0              0   \n",
              "319792               0               0              0              0   \n",
              "319793               0               0              0              0   \n",
              "319794               0               0              0              0   \n",
              "\n",
              "        SleepTime_5.0  SleepTime_6.0  SleepTime_7.0  SleepTime_8.0  \\\n",
              "0                   1              0              0              0   \n",
              "1                   0              0              1              0   \n",
              "2                   0              0              0              1   \n",
              "3                   0              1              0              0   \n",
              "4                   0              0              0              1   \n",
              "...               ...            ...            ...            ...   \n",
              "319790              0              1              0              0   \n",
              "319791              1              0              0              0   \n",
              "319792              0              1              0              0   \n",
              "319793              0              0              0              0   \n",
              "319794              0              0              0              1   \n",
              "\n",
              "        SleepTime_9.0  \n",
              "0                   0  \n",
              "1                   0  \n",
              "2                   0  \n",
              "3                   0  \n",
              "4                   0  \n",
              "...               ...  \n",
              "319790              0  \n",
              "319791              0  \n",
              "319792              0  \n",
              "319793              0  \n",
              "319794              0  \n",
              "\n",
              "[319795 rows x 62 columns]"
            ]
          },
          "execution_count": 46,
          "metadata": {},
          "output_type": "execute_result"
        }
      ],
      "source": [
        "# df.select_dtypes(include=['object'])\n",
        "df_objs = pd.get_dummies(df_objs,columns=['HeartDisease','Smoking','AlcoholDrinking','Stroke','Sex','DiffWalking','PhysicalActivity','Asthma','KidneyDisease','SkinCancer'],drop_first=True)\n",
        "df_objs = pd.get_dummies(df_objs,columns=['GenHealth','Race','AgeCategory','Diabetic','SleepTime'],drop_first=False)\n",
        "df_objs\n",
        "\n",
        "# Dummy Encoding the appropriate categorical data, and one hot encoding the rest."
      ]
    },
    {
      "cell_type": "code",
      "execution_count": 47,
      "metadata": {
        "colab": {
          "base_uri": "https://localhost:8080/"
        },
        "id": "heofdlCs6Ffx",
        "outputId": "2e0d1eeb-fca2-49c7-9e6e-640e4f888627"
      },
      "outputs": [
        {
          "name": "stdout",
          "output_type": "stream",
          "text": [
            "<class 'pandas.core.frame.DataFrame'>\n",
            "RangeIndex: 319795 entries, 0 to 319794\n",
            "Data columns (total 3 columns):\n",
            " #   Column          Non-Null Count   Dtype  \n",
            "---  ------          --------------   -----  \n",
            " 0   BMI             319795 non-null  float64\n",
            " 1   PhysicalHealth  319795 non-null  float64\n",
            " 2   MentalHealth    319795 non-null  float64\n",
            "dtypes: float64(3)\n",
            "memory usage: 7.3 MB\n"
          ]
        }
      ],
      "source": [
        "df_nums.info()"
      ]
    },
    {
      "cell_type": "code",
      "execution_count": 48,
      "metadata": {
        "id": "Y01BYwYkEXqF"
      },
      "outputs": [],
      "source": [
        "# scaling numerical data\n",
        "\n",
        "from sklearn.preprocessing import StandardScaler\n",
        "scaler = StandardScaler()\n",
        "df_nums = scaler.fit_transform(df_nums)\n",
        "df_nums = pd.DataFrame(df_nums, columns=['BMI','PhysicalHealth','Mentalhealth'])"
      ]
    },
    {
      "cell_type": "code",
      "execution_count": 49,
      "metadata": {
        "colab": {
          "base_uri": "https://localhost:8080/",
          "height": 299
        },
        "id": "AyKMUlizyFtJ",
        "outputId": "623537b7-67b4-4548-920f-4476be3c4748"
      },
      "outputs": [
        {
          "data": {
            "text/html": [
              "<div>\n",
              "<style scoped>\n",
              "    .dataframe tbody tr th:only-of-type {\n",
              "        vertical-align: middle;\n",
              "    }\n",
              "\n",
              "    .dataframe tbody tr th {\n",
              "        vertical-align: top;\n",
              "    }\n",
              "\n",
              "    .dataframe thead th {\n",
              "        text-align: right;\n",
              "    }\n",
              "</style>\n",
              "<table border=\"1\" class=\"dataframe\">\n",
              "  <thead>\n",
              "    <tr style=\"text-align: right;\">\n",
              "      <th></th>\n",
              "      <th>BMI</th>\n",
              "      <th>PhysicalHealth</th>\n",
              "      <th>Mentalhealth</th>\n",
              "      <th>HeartDisease_Yes</th>\n",
              "      <th>Smoking_Yes</th>\n",
              "      <th>AlcoholDrinking_Yes</th>\n",
              "      <th>Stroke_Yes</th>\n",
              "      <th>Sex_Male</th>\n",
              "      <th>DiffWalking_Yes</th>\n",
              "      <th>PhysicalActivity_Yes</th>\n",
              "      <th>...</th>\n",
              "      <th>SleepTime_22.0</th>\n",
              "      <th>SleepTime_23.0</th>\n",
              "      <th>SleepTime_24.0</th>\n",
              "      <th>SleepTime_3.0</th>\n",
              "      <th>SleepTime_4.0</th>\n",
              "      <th>SleepTime_5.0</th>\n",
              "      <th>SleepTime_6.0</th>\n",
              "      <th>SleepTime_7.0</th>\n",
              "      <th>SleepTime_8.0</th>\n",
              "      <th>SleepTime_9.0</th>\n",
              "    </tr>\n",
              "  </thead>\n",
              "  <tbody>\n",
              "    <tr>\n",
              "      <th>0</th>\n",
              "      <td>-1.844750</td>\n",
              "      <td>-0.046751</td>\n",
              "      <td>3.281069</td>\n",
              "      <td>0</td>\n",
              "      <td>1</td>\n",
              "      <td>0</td>\n",
              "      <td>0</td>\n",
              "      <td>0</td>\n",
              "      <td>0</td>\n",
              "      <td>1</td>\n",
              "      <td>...</td>\n",
              "      <td>0</td>\n",
              "      <td>0</td>\n",
              "      <td>0</td>\n",
              "      <td>0</td>\n",
              "      <td>0</td>\n",
              "      <td>1</td>\n",
              "      <td>0</td>\n",
              "      <td>0</td>\n",
              "      <td>0</td>\n",
              "      <td>0</td>\n",
              "    </tr>\n",
              "    <tr>\n",
              "      <th>1</th>\n",
              "      <td>-1.256338</td>\n",
              "      <td>-0.424070</td>\n",
              "      <td>-0.490039</td>\n",
              "      <td>0</td>\n",
              "      <td>0</td>\n",
              "      <td>0</td>\n",
              "      <td>1</td>\n",
              "      <td>0</td>\n",
              "      <td>0</td>\n",
              "      <td>1</td>\n",
              "      <td>...</td>\n",
              "      <td>0</td>\n",
              "      <td>0</td>\n",
              "      <td>0</td>\n",
              "      <td>0</td>\n",
              "      <td>0</td>\n",
              "      <td>0</td>\n",
              "      <td>0</td>\n",
              "      <td>1</td>\n",
              "      <td>0</td>\n",
              "      <td>0</td>\n",
              "    </tr>\n",
              "    <tr>\n",
              "      <th>2</th>\n",
              "      <td>-0.274603</td>\n",
              "      <td>2.091388</td>\n",
              "      <td>3.281069</td>\n",
              "      <td>0</td>\n",
              "      <td>1</td>\n",
              "      <td>0</td>\n",
              "      <td>0</td>\n",
              "      <td>1</td>\n",
              "      <td>0</td>\n",
              "      <td>1</td>\n",
              "      <td>...</td>\n",
              "      <td>0</td>\n",
              "      <td>0</td>\n",
              "      <td>0</td>\n",
              "      <td>0</td>\n",
              "      <td>0</td>\n",
              "      <td>0</td>\n",
              "      <td>0</td>\n",
              "      <td>0</td>\n",
              "      <td>1</td>\n",
              "      <td>0</td>\n",
              "    </tr>\n",
              "    <tr>\n",
              "      <th>3</th>\n",
              "      <td>-0.647473</td>\n",
              "      <td>-0.424070</td>\n",
              "      <td>-0.490039</td>\n",
              "      <td>0</td>\n",
              "      <td>0</td>\n",
              "      <td>0</td>\n",
              "      <td>0</td>\n",
              "      <td>0</td>\n",
              "      <td>0</td>\n",
              "      <td>0</td>\n",
              "      <td>...</td>\n",
              "      <td>0</td>\n",
              "      <td>0</td>\n",
              "      <td>0</td>\n",
              "      <td>0</td>\n",
              "      <td>0</td>\n",
              "      <td>0</td>\n",
              "      <td>1</td>\n",
              "      <td>0</td>\n",
              "      <td>0</td>\n",
              "      <td>0</td>\n",
              "    </tr>\n",
              "    <tr>\n",
              "      <th>4</th>\n",
              "      <td>-0.726138</td>\n",
              "      <td>3.097572</td>\n",
              "      <td>-0.490039</td>\n",
              "      <td>0</td>\n",
              "      <td>0</td>\n",
              "      <td>0</td>\n",
              "      <td>0</td>\n",
              "      <td>0</td>\n",
              "      <td>1</td>\n",
              "      <td>1</td>\n",
              "      <td>...</td>\n",
              "      <td>0</td>\n",
              "      <td>0</td>\n",
              "      <td>0</td>\n",
              "      <td>0</td>\n",
              "      <td>0</td>\n",
              "      <td>0</td>\n",
              "      <td>0</td>\n",
              "      <td>0</td>\n",
              "      <td>1</td>\n",
              "      <td>0</td>\n",
              "    </tr>\n",
              "  </tbody>\n",
              "</table>\n",
              "<p>5 rows × 65 columns</p>\n",
              "</div>"
            ],
            "text/plain": [
              "        BMI  PhysicalHealth  Mentalhealth  HeartDisease_Yes  Smoking_Yes  \\\n",
              "0 -1.844750       -0.046751      3.281069                 0            1   \n",
              "1 -1.256338       -0.424070     -0.490039                 0            0   \n",
              "2 -0.274603        2.091388      3.281069                 0            1   \n",
              "3 -0.647473       -0.424070     -0.490039                 0            0   \n",
              "4 -0.726138        3.097572     -0.490039                 0            0   \n",
              "\n",
              "   AlcoholDrinking_Yes  Stroke_Yes  Sex_Male  DiffWalking_Yes  \\\n",
              "0                    0           0         0                0   \n",
              "1                    0           1         0                0   \n",
              "2                    0           0         1                0   \n",
              "3                    0           0         0                0   \n",
              "4                    0           0         0                1   \n",
              "\n",
              "   PhysicalActivity_Yes  ...  SleepTime_22.0  SleepTime_23.0  SleepTime_24.0  \\\n",
              "0                     1  ...               0               0               0   \n",
              "1                     1  ...               0               0               0   \n",
              "2                     1  ...               0               0               0   \n",
              "3                     0  ...               0               0               0   \n",
              "4                     1  ...               0               0               0   \n",
              "\n",
              "   SleepTime_3.0  SleepTime_4.0  SleepTime_5.0  SleepTime_6.0  SleepTime_7.0  \\\n",
              "0              0              0              1              0              0   \n",
              "1              0              0              0              0              1   \n",
              "2              0              0              0              0              0   \n",
              "3              0              0              0              1              0   \n",
              "4              0              0              0              0              0   \n",
              "\n",
              "   SleepTime_8.0  SleepTime_9.0  \n",
              "0              0              0  \n",
              "1              0              0  \n",
              "2              1              0  \n",
              "3              0              0  \n",
              "4              1              0  \n",
              "\n",
              "[5 rows x 65 columns]"
            ]
          },
          "execution_count": 49,
          "metadata": {},
          "output_type": "execute_result"
        }
      ],
      "source": [
        "df = pd.concat([df_nums,df_objs],axis=1)\n",
        "df.head()"
      ]
    },
    {
      "cell_type": "markdown",
      "metadata": {
        "id": "MVfrybyCP4oC"
      },
      "source": [
        "# Training"
      ]
    },
    {
      "cell_type": "code",
      "execution_count": 50,
      "metadata": {
        "id": "xSv90eZD6wC1"
      },
      "outputs": [],
      "source": [
        "from sklearn.model_selection import train_test_split\n",
        "\n",
        "X = df.drop('HeartDisease_Yes', axis=1)\n",
        "y = df['HeartDisease_Yes']\n",
        "X_train, X_test, y_train, y_test = train_test_split(X, y, random_state = 42, test_size=.2, train_size = .8)"
      ]
    },
    {
      "cell_type": "code",
      "execution_count": 51,
      "metadata": {
        "id": "6usN0ApT7lhi"
      },
      "outputs": [],
      "source": [
        "from sklearn.metrics import accuracy_score, recall_score, precision_score, classification_report, confusion_matrix\n",
        "\n",
        "def run_model(model, xtr, ytr):\n",
        "    model = model\n",
        "    model.fit(X=xtr, y=ytr)\n",
        "    test_predictions = model.predict(X_test) \n",
        "    print('accuracy =',accuracy_score(y_test, test_predictions))\n",
        "    print('recall = ',recall_score(y_test, test_predictions))\n",
        "    print('precision = ',precision_score(y_test, test_predictions))\n",
        "    print(classification_report(y_test, test_predictions))\n",
        "    return test_predictions\n",
        "\n",
        "# accuracy might be high because a naive model just predicts the majority class\n",
        "# recall is the most important metric to look at in cases like disease detection\n",
        "# where there is a high cost associated with false negatives (ie not detecting\n",
        "# the disease)."
      ]
    },
    {
      "cell_type": "code",
      "execution_count": 52,
      "metadata": {
        "colab": {
          "base_uri": "https://localhost:8080/"
        },
        "id": "mdDGquy8GZve",
        "outputId": "99c6e934-de1b-49ff-fdd2-56e389ceb232"
      },
      "outputs": [
        {
          "name": "stdout",
          "output_type": "stream",
          "text": [
            "accuracy = 0.6376897700089119\n",
            "recall =  0.8565808297567954\n",
            "precision =  0.176355804278193\n",
            "              precision    recall  f1-score   support\n",
            "\n",
            "           0       0.98      0.62      0.76     58367\n",
            "           1       0.18      0.86      0.29      5592\n",
            "\n",
            "    accuracy                           0.64     63959\n",
            "   macro avg       0.58      0.74      0.52     63959\n",
            "weighted avg       0.91      0.64      0.72     63959\n",
            "\n"
          ]
        },
        {
          "data": {
            "text/plain": [
              "preds  y_test\n",
              "0      0         35996\n",
              "1      0         22371\n",
              "       1          4790\n",
              "0      1           802\n",
              "dtype: int64"
            ]
          },
          "execution_count": 52,
          "metadata": {},
          "output_type": "execute_result"
        }
      ],
      "source": [
        "from sklearn.naive_bayes import GaussianNB, ComplementNB\n",
        "preds = run_model(GaussianNB(), X_train, y_train)\n",
        "pd.DataFrame({'preds':preds, 'y_test':y_test}).value_counts()\n",
        "\n",
        "# naive bayes is a popular choice for predicting based on medical data\n",
        "# but it doesn't seem to be performing too well here\n",
        "# (too many false positives. Not as bad as too many false negatives, but still)\n",
        "\n"
      ]
    },
    {
      "cell_type": "code",
      "execution_count": 53,
      "metadata": {
        "colab": {
          "base_uri": "https://localhost:8080/"
        },
        "id": "jnRaWIy1Is50",
        "outputId": "01ff103d-2b43-4e9b-a6d7-82a70782fbcf"
      },
      "outputs": [
        {
          "name": "stdout",
          "output_type": "stream",
          "text": [
            "accuracy = 0.9048452915148767\n",
            "recall =  0.10675965665236052\n",
            "precision =  0.3536729857819905\n",
            "              precision    recall  f1-score   support\n",
            "\n",
            "           0       0.92      0.98      0.95     58367\n",
            "           1       0.35      0.11      0.16      5592\n",
            "\n",
            "    accuracy                           0.90     63959\n",
            "   macro avg       0.64      0.54      0.56     63959\n",
            "weighted avg       0.87      0.90      0.88     63959\n",
            "\n"
          ]
        }
      ],
      "source": [
        "from sklearn.neighbors import KNeighborsClassifier\n",
        "knn = KNeighborsClassifier(n_neighbors = 5)\n",
        "preds = run_model(knn, X_train, y_train)\n",
        "\n",
        "# hmm, even worse. Nice."
      ]
    },
    {
      "cell_type": "code",
      "execution_count": 54,
      "metadata": {
        "colab": {
          "base_uri": "https://localhost:8080/"
        },
        "id": "hlb9Y9toQSjz",
        "outputId": "64c6d8e2-f72a-4b19-cc18-e736bccfa5ba"
      },
      "outputs": [
        {
          "data": {
            "text/plain": [
              "0    292422\n",
              "1     27373\n",
              "Name: HeartDisease_Yes, dtype: int64"
            ]
          },
          "execution_count": 54,
          "metadata": {},
          "output_type": "execute_result"
        }
      ],
      "source": [
        "df['HeartDisease_Yes'].value_counts()\n",
        "\n",
        "# data is pretty imbalanced. Let's try SMOTE to fix this and run the algos again\n",
        "# note, will be lifting a fair bit of code for SMOTE and/or undersampling from\n",
        "# internet sources since I don't have any experience with these"
      ]
    },
    {
      "cell_type": "code",
      "execution_count": 55,
      "metadata": {
        "id": "wOL6ItcPTHRS"
      },
      "outputs": [],
      "source": [
        "# SMOTE\n",
        "from imblearn.over_sampling import SMOTE\n",
        "sm = SMOTE(random_state = 2)\n",
        "X_train_res, y_train_res = sm.fit_resample(X_train, y_train.ravel())"
      ]
    },
    {
      "cell_type": "code",
      "execution_count": 56,
      "metadata": {
        "colab": {
          "base_uri": "https://localhost:8080/"
        },
        "id": "Ygxmw4-QTyYL",
        "outputId": "c345dd6c-6ab3-48b8-a32f-b9c0b92ba197"
      },
      "outputs": [
        {
          "name": "stdout",
          "output_type": "stream",
          "text": [
            "21781\n",
            "234055\n",
            "234055\n",
            "234055\n"
          ]
        }
      ],
      "source": [
        "print(sum(y_train==1))\n",
        "print(sum(y_train==0))\n",
        "print(sum(y_train_res==1))\n",
        "print(sum(y_train_res==0))\n",
        "\n",
        "# Perfectly balanced as all things should be."
      ]
    },
    {
      "cell_type": "code",
      "execution_count": 57,
      "metadata": {
        "colab": {
          "base_uri": "https://localhost:8080/"
        },
        "id": "87h6UvHhUXSt",
        "outputId": "5050a11f-ecad-4808-b0a4-29bfed37a12f"
      },
      "outputs": [
        {
          "name": "stdout",
          "output_type": "stream",
          "text": [
            "accuracy = 0.495411122750512\n",
            "recall =  0.873211731044349\n",
            "precision =  0.1339753614837984\n",
            "              precision    recall  f1-score   support\n",
            "\n",
            "           0       0.97      0.46      0.62     58367\n",
            "           1       0.13      0.87      0.23      5592\n",
            "\n",
            "    accuracy                           0.50     63959\n",
            "   macro avg       0.55      0.67      0.43     63959\n",
            "weighted avg       0.90      0.50      0.59     63959\n",
            "\n"
          ]
        },
        {
          "data": {
            "text/plain": [
              "preds  y_test\n",
              "1      0         31564\n",
              "0      0         26803\n",
              "1      1          4883\n",
              "0      1           709\n",
              "dtype: int64"
            ]
          },
          "execution_count": 57,
          "metadata": {},
          "output_type": "execute_result"
        }
      ],
      "source": [
        "# lets run gaussian naive bayes again with the balanced data\n",
        "\n",
        "preds = run_model(GaussianNB(), X_train_res, y_train_res)\n",
        "pd.DataFrame({'preds':preds, 'y_test':y_test}).value_counts()\n",
        "\n",
        "# whoops."
      ]
    },
    {
      "cell_type": "code",
      "execution_count": 58,
      "metadata": {
        "colab": {
          "background_save": true
        },
        "id": "FTZGp34gVCJ9",
        "outputId": "0139d5b6-7da4-4146-f5fc-30f429a51314"
      },
      "outputs": [
        {
          "name": "stdout",
          "output_type": "stream",
          "text": [
            "accuracy = 0.7487296549351928\n",
            "recall =  0.5851216022889842\n",
            "precision =  0.19221053868295834\n",
            "              precision    recall  f1-score   support\n",
            "\n",
            "           0       0.95      0.76      0.85     58367\n",
            "           1       0.19      0.59      0.29      5592\n",
            "\n",
            "    accuracy                           0.75     63959\n",
            "   macro avg       0.57      0.67      0.57     63959\n",
            "weighted avg       0.88      0.75      0.80     63959\n",
            "\n"
          ]
        },
        {
          "data": {
            "text/plain": [
              "preds  y_test\n",
              "0      0         44616\n",
              "1      0         13751\n",
              "       1          3272\n",
              "0      1          2320\n",
              "dtype: int64"
            ]
          },
          "execution_count": 58,
          "metadata": {},
          "output_type": "execute_result"
        }
      ],
      "source": [
        "# ergh, KNN time.\n",
        "\n",
        "knn = KNeighborsClassifier(n_neighbors = 5)\n",
        "preds = run_model(knn, X_train_res, y_train_res)\n",
        "pd.DataFrame({'preds':preds, 'y_test':y_test}).value_counts()"
      ]
    },
    {
      "cell_type": "code",
      "execution_count": 59,
      "metadata": {
        "colab": {
          "background_save": true
        },
        "id": "KoBrZj8BVmgo",
        "outputId": "a36f5cad-8c0c-46e4-80ba-bcc133b19b7a"
      },
      "outputs": [
        {
          "name": "stdout",
          "output_type": "stream",
          "text": [
            "accuracy = 0.8252161540987195\n",
            "recall =  0.3093705293276109\n",
            "precision =  0.19122361003647617\n",
            "              precision    recall  f1-score   support\n",
            "\n",
            "           0       0.93      0.87      0.90     58367\n",
            "           1       0.19      0.31      0.24      5592\n",
            "\n",
            "    accuracy                           0.83     63959\n",
            "   macro avg       0.56      0.59      0.57     63959\n",
            "weighted avg       0.87      0.83      0.84     63959\n",
            "\n"
          ]
        },
        {
          "data": {
            "text/plain": [
              "preds  y_test\n",
              "0      0         51050\n",
              "1      0          7317\n",
              "0      1          3862\n",
              "1      1          1730\n",
              "dtype: int64"
            ]
          },
          "execution_count": 59,
          "metadata": {},
          "output_type": "execute_result"
        }
      ],
      "source": [
        "# might as well try decision tree\n",
        "\n",
        "from sklearn import tree\n",
        "dtc = tree.DecisionTreeClassifier(random_state=0)\n",
        "preds = run_model(dtc, X_train_res, y_train_res)\n",
        "pd.DataFrame({'preds':preds, 'y_test':y_test}).value_counts()"
      ]
    },
    {
      "cell_type": "code",
      "execution_count": 60,
      "metadata": {
        "colab": {
          "background_save": true
        },
        "id": "fToQt3TKagpK"
      },
      "outputs": [],
      "source": [
        "# lets try undersampling the train data using the nearmiss algo now\n",
        "\n",
        "from imblearn.under_sampling import NearMiss\n",
        "undersam = NearMiss()\n",
        "  \n",
        "X_train_under, y_train_under = undersam.fit_resample(X_train, y_train)"
      ]
    },
    {
      "cell_type": "code",
      "execution_count": 61,
      "metadata": {
        "colab": {
          "background_save": true
        },
        "id": "qogzwZrybrTk",
        "outputId": "9bf0ee90-a837-48c8-d663-91814853a35c"
      },
      "outputs": [
        {
          "name": "stdout",
          "output_type": "stream",
          "text": [
            "21781\n",
            "234055\n",
            "21781\n",
            "21781\n"
          ]
        }
      ],
      "source": [
        "print(sum(y_train==1))\n",
        "print(sum(y_train==0))\n",
        "print(sum(y_train_under==1))\n",
        "print(sum(y_train_under==0))"
      ]
    },
    {
      "cell_type": "code",
      "execution_count": 62,
      "metadata": {
        "colab": {
          "background_save": true
        },
        "id": "rCrO09cncKe1",
        "outputId": "41340013-6415-4f9b-bf60-c0304dacda7d"
      },
      "outputs": [
        {
          "name": "stdout",
          "output_type": "stream",
          "text": [
            "accuracy = 0.3647961975640645\n",
            "recall =  0.6782904148783977\n",
            "precision =  0.08899368855728397\n",
            "              precision    recall  f1-score   support\n",
            "\n",
            "           0       0.92      0.33      0.49     58367\n",
            "           1       0.09      0.68      0.16      5592\n",
            "\n",
            "    accuracy                           0.36     63959\n",
            "   macro avg       0.50      0.51      0.32     63959\n",
            "weighted avg       0.84      0.36      0.46     63959\n",
            "\n"
          ]
        },
        {
          "data": {
            "text/plain": [
              "preds  y_test\n",
              "1      0         38828\n",
              "0      0         19539\n",
              "1      1          3793\n",
              "0      1          1799\n",
              "dtype: int64"
            ]
          },
          "execution_count": 62,
          "metadata": {},
          "output_type": "execute_result"
        }
      ],
      "source": [
        "# gaussian again, with undersampled data this time\n",
        "\n",
        "preds = run_model(GaussianNB(), X_train_under, y_train_under)\n",
        "pd.DataFrame({'preds':preds, 'y_test':y_test}).value_counts()"
      ]
    },
    {
      "cell_type": "code",
      "execution_count": 63,
      "metadata": {
        "colab": {
          "background_save": true
        },
        "id": "cVdk1ysvcU43",
        "outputId": "e360bf37-1114-4e86-e44d-6a426386c1a7"
      },
      "outputs": [
        {
          "name": "stdout",
          "output_type": "stream",
          "text": [
            "accuracy = 0.23022561328350974\n",
            "recall =  0.8680257510729614\n",
            "precision =  0.09098406747891284\n",
            "              precision    recall  f1-score   support\n",
            "\n",
            "           0       0.93      0.17      0.29     58367\n",
            "           1       0.09      0.87      0.16      5592\n",
            "\n",
            "    accuracy                           0.23     63959\n",
            "   macro avg       0.51      0.52      0.23     63959\n",
            "weighted avg       0.86      0.23      0.28     63959\n",
            "\n"
          ]
        },
        {
          "data": {
            "text/plain": [
              "preds  y_test\n",
              "1      0         48496\n",
              "0      0          9871\n",
              "1      1          4854\n",
              "0      1           738\n",
              "dtype: int64"
            ]
          },
          "execution_count": 63,
          "metadata": {},
          "output_type": "execute_result"
        }
      ],
      "source": [
        "# decision tree again, with undersampled data this time\n",
        "\n",
        "preds = run_model(dtc, X_train_under, y_train_under)\n",
        "pd.DataFrame({'preds':preds, 'y_test':y_test}).value_counts()"
      ]
    },
    {
      "cell_type": "code",
      "execution_count": 64,
      "metadata": {
        "colab": {
          "background_save": true
        },
        "id": "xH4-n-MIciPI",
        "outputId": "a7067221-85b7-47ed-d40c-b595558136d0"
      },
      "outputs": [
        {
          "data": {
            "text/plain": [
              "'\\naccuracy = 0.6376897700089119\\nrecall =  0.8565808297567954\\nprecision =  0.176355804278193\\n              precision    recall  f1-score   support\\n\\n           0       0.98      0.62      0.76     58367\\n           1       0.18      0.86      0.29      5592\\n\\n    accuracy                           0.64     63959\\n   macro avg       0.58      0.74      0.52     63959\\nweighted avg       0.91      0.64      0.72     63959\\n\\nconfusion matrix:\\n[[35996 22371]\\n [  802  4790]]\\n\\npreds  y_test\\n0      0         35996\\n1      0         22371\\n       1          4790\\n0      1           802\\n'"
            ]
          },
          "execution_count": 64,
          "metadata": {},
          "output_type": "execute_result"
        }
      ],
      "source": [
        "# seems like a gaussianNB model trained on original data is the \"best\"\n",
        "# (relatively, they all seem bad to me oof) because highest recall\n",
        "# KNN is out because it takes much longer.\n",
        "\n",
        "\"\"\"\n",
        "accuracy = 0.6376897700089119\n",
        "recall =  0.8565808297567954\n",
        "precision =  0.176355804278193\n",
        "              precision    recall  f1-score   support\n",
        "\n",
        "           0       0.98      0.62      0.76     58367\n",
        "           1       0.18      0.86      0.29      5592\n",
        "\n",
        "    accuracy                           0.64     63959\n",
        "   macro avg       0.58      0.74      0.52     63959\n",
        "weighted avg       0.91      0.64      0.72     63959\n",
        "\n",
        "confusion matrix:\n",
        "[[35996 22371]\n",
        " [  802  4790]]\n",
        "\n",
        "preds  y_test\n",
        "0      0         35996\n",
        "1      0         22371\n",
        "       1          4790\n",
        "0      1           802\n",
        "\"\"\""
      ]
    },
    {
      "cell_type": "code",
      "execution_count": 65,
      "metadata": {
        "colab": {
          "background_save": true
        },
        "id": "-jIuAB6wcqzk",
        "outputId": "798d3b14-04a2-49b9-bd32-ca546e93b925"
      },
      "outputs": [
        {
          "name": "stdout",
          "output_type": "stream",
          "text": [
            "[[35996 22371]\n",
            " [  802  4790]]\n"
          ]
        },
        {
          "data": {
            "image/png": "[encoded data removed]",
            "text/plain": [
              "<Figure size 720x720 with 2 Axes>"
            ]
          },
          "metadata": {
            "needs_background": "light"
          },
          "output_type": "display_data"
        }
      ],
      "source": [
        "# confusion matrix for finalised model\n",
        "\n",
        "model = GaussianNB()\n",
        "model.fit(X=X_train, y=y_train)\n",
        "test_predictions = model.predict(X_test) \n",
        "\n",
        "cm = confusion_matrix(y_test, test_predictions)\n",
        "print(cm)\n",
        "cmn = cm.astype('float') / cm.sum(axis=1)[:, np.newaxis]\n",
        "fig, ax = plt.subplots(figsize=(10,10))\n",
        "sns.heatmap(cmn, annot=True, fmt='.2f', xticklabels=[0,1], yticklabels=[0,1])\n",
        "plt.ylabel('Actual')\n",
        "plt.xlabel('Predicted')\n",
        "plt.show(block=False)"
      ]
    },
    {
      "cell_type": "code",
      "execution_count": 66,
      "metadata": {
        "colab": {
          "background_save": true
        },
        "id": "vB7qHnlcW68P"
      },
      "outputs": [],
      "source": [
        "import pickle\n",
        "pickle.dump(model, open('model.pkl', 'wb'))"
      ]
    }
  ],
  "metadata": {
    "colab": {
      "collapsed_sections": [],
      "name": "finalDS-heart-disease.ipynb",
      "provenance": []
    },
    "interpreter": {
      "hash": "aee8b7b246df8f9039afb4144a1f6fd8d2ca17a180786b69acc140d282b71a49"
    },
    "kernelspec": {
      "display_name": "Python 3.10.4 64-bit",
      "language": "python",
      "name": "python3"
    },
    "language_info": {
      "codemirror_mode": {
        "name": "ipython",
        "version": 3
      },
      "file_extension": ".py",
      "mimetype": "text/x-python",
      "name": "python",
      "nbconvert_exporter": "python",
      "pygments_lexer": "ipython3",
      "version": "3.10.4"
    }
  },
  "nbformat": 4,
  "nbformat_minor": 0
}
